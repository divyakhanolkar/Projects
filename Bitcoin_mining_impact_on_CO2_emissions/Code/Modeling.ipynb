{
 "cells": [
  {
   "cell_type": "markdown",
   "id": "91acc01e",
   "metadata": {},
   "source": [
    "### Import libraries"
   ]
  },
  {
   "cell_type": "code",
   "execution_count": 239,
   "id": "a70d4859",
   "metadata": {},
   "outputs": [],
   "source": [
    "import shap\n",
    "import pandas as pd\n",
    "import numpy as np\n",
    "import matplotlib.pyplot as plt\n",
    "from sklearn.model_selection import learning_curve\n",
    "from sklearn.model_selection import train_test_split\n",
    "from sklearn.preprocessing import StandardScaler\n",
    "from xgboost import XGBRegressor\n",
    "from skopt import BayesSearchCV\n",
    "from skopt.space import Real, Integer\n",
    "from sklearn.metrics import mean_absolute_error, mean_squared_error, r2_score\n"
   ]
  },
  {
   "cell_type": "markdown",
   "id": "306a000c",
   "metadata": {},
   "source": [
    "### Reading Data"
   ]
  },
  {
   "cell_type": "code",
   "execution_count": 240,
   "id": "9716937e",
   "metadata": {},
   "outputs": [],
   "source": [
    "# Load data from different sheets of the Excel file\n",
    "df1 = pd.read_excel('bitcoindata.xlsx', sheet_name='Bitcoin Data')\n",
    "df2= pd.read_excel('bitcoindata.xlsx', sheet_name='Damage Estimates')\n",
    "\n"
   ]
  },
  {
   "cell_type": "markdown",
   "id": "ce20421e",
   "metadata": {},
   "source": [
    "### Preparing Dataset"
   ]
  },
  {
   "cell_type": "code",
   "execution_count": 241,
   "id": "bdd84d06",
   "metadata": {},
   "outputs": [
    {
     "data": {
      "text/plain": [
       "Unnamed: 0                          2193\n",
       "Date                                   1\n",
       "BTC price                              5\n",
       "Network Hashrate (7-day average)       0\n",
       "Rig Power Efficiency                   0\n",
       "Power required                         0\n",
       "Energy consumed per day                0\n",
       "block time                             0\n",
       "Reward                                 0\n",
       "Energy per coin                        0\n",
       "Coins created                          0\n",
       "dtype: int64"
      ]
     },
     "execution_count": 241,
     "metadata": {},
     "output_type": "execute_result"
    }
   ],
   "source": [
    "df1.isna().sum()"
   ]
  },
  {
   "cell_type": "code",
   "execution_count": 242,
   "id": "422873d5",
   "metadata": {},
   "outputs": [
    {
     "data": {
      "text/plain": [
       "Year                           3\n",
       "Date                          10\n",
       "Price                          2\n",
       "Coins created                  2\n",
       "kWh/coin                      10\n",
       "GWh per day                    2\n",
       "CO2e (kg/kWh)                 10\n",
       "CO2e (tonnes/day)              2\n",
       "CO2e (tonnes/coin)             2\n",
       "damages $/coin                 2\n",
       "damages $/value                2\n",
       "total damages $ (millions)     2\n",
       "dtype: int64"
      ]
     },
     "execution_count": 242,
     "metadata": {},
     "output_type": "execute_result"
    }
   ],
   "source": [
    "df2.isna().sum()"
   ]
  },
  {
   "cell_type": "code",
   "execution_count": 243,
   "id": "6877f77b",
   "metadata": {},
   "outputs": [],
   "source": [
    "df1.drop(\"Unnamed: 0\",axis=1,inplace=True)"
   ]
  },
  {
   "cell_type": "code",
   "execution_count": 244,
   "id": "991275e7",
   "metadata": {},
   "outputs": [],
   "source": [
    "df2.drop(\"Price\",axis=1,inplace=True)"
   ]
  },
  {
   "cell_type": "code",
   "execution_count": 245,
   "id": "4baea6c9",
   "metadata": {},
   "outputs": [],
   "source": [
    "df1.dropna(inplace=True)"
   ]
  },
  {
   "cell_type": "code",
   "execution_count": 246,
   "id": "fdbe3c35",
   "metadata": {},
   "outputs": [],
   "source": [
    "df2.dropna(inplace=True)"
   ]
  },
  {
   "cell_type": "code",
   "execution_count": 247,
   "id": "76953c66",
   "metadata": {},
   "outputs": [
    {
     "data": {
      "text/plain": [
       "(2188, 10)"
      ]
     },
     "execution_count": 247,
     "metadata": {},
     "output_type": "execute_result"
    }
   ],
   "source": [
    "df1.shape"
   ]
  },
  {
   "cell_type": "code",
   "execution_count": 248,
   "id": "7f0e1e78",
   "metadata": {},
   "outputs": [
    {
     "data": {
      "text/plain": [
       "(2192, 11)"
      ]
     },
     "execution_count": 248,
     "metadata": {},
     "output_type": "execute_result"
    }
   ],
   "source": [
    "df2.shape"
   ]
  },
  {
   "cell_type": "code",
   "execution_count": 249,
   "id": "698a351e",
   "metadata": {},
   "outputs": [
    {
     "data": {
      "text/html": [
       "<div>\n",
       "<style scoped>\n",
       "    .dataframe tbody tr th:only-of-type {\n",
       "        vertical-align: middle;\n",
       "    }\n",
       "\n",
       "    .dataframe tbody tr th {\n",
       "        vertical-align: top;\n",
       "    }\n",
       "\n",
       "    .dataframe thead th {\n",
       "        text-align: right;\n",
       "    }\n",
       "</style>\n",
       "<table border=\"1\" class=\"dataframe\">\n",
       "  <thead>\n",
       "    <tr style=\"text-align: right;\">\n",
       "      <th></th>\n",
       "      <th>Date</th>\n",
       "      <th>BTC price</th>\n",
       "      <th>Network Hashrate (7-day average)</th>\n",
       "      <th>Rig Power Efficiency</th>\n",
       "      <th>Power required</th>\n",
       "      <th>Energy consumed per day</th>\n",
       "      <th>block time</th>\n",
       "      <th>Reward</th>\n",
       "      <th>Energy per coin</th>\n",
       "      <th>Coins created</th>\n",
       "    </tr>\n",
       "  </thead>\n",
       "  <tbody>\n",
       "    <tr>\n",
       "      <th>1</th>\n",
       "      <td>2016-01-01</td>\n",
       "      <td>434.334015</td>\n",
       "      <td>709977.386212</td>\n",
       "      <td>0.174845</td>\n",
       "      <td>124.136248</td>\n",
       "      <td>2979.269956</td>\n",
       "      <td>10.805309</td>\n",
       "      <td>25</td>\n",
       "      <td>894.220317</td>\n",
       "      <td>3331.695669</td>\n",
       "    </tr>\n",
       "    <tr>\n",
       "      <th>2</th>\n",
       "      <td>2016-01-02</td>\n",
       "      <td>433.437988</td>\n",
       "      <td>681636.254019</td>\n",
       "      <td>0.174751</td>\n",
       "      <td>119.116927</td>\n",
       "      <td>2858.806242</td>\n",
       "      <td>9.946667</td>\n",
       "      <td>25</td>\n",
       "      <td>789.877576</td>\n",
       "      <td>3619.302949</td>\n",
       "    </tr>\n",
       "    <tr>\n",
       "      <th>3</th>\n",
       "      <td>2016-01-03</td>\n",
       "      <td>430.010986</td>\n",
       "      <td>684710.726135</td>\n",
       "      <td>0.174658</td>\n",
       "      <td>119.589935</td>\n",
       "      <td>2870.158439</td>\n",
       "      <td>9.892184</td>\n",
       "      <td>25</td>\n",
       "      <td>788.67042</td>\n",
       "      <td>3639.236829</td>\n",
       "    </tr>\n",
       "    <tr>\n",
       "      <th>4</th>\n",
       "      <td>2016-01-04</td>\n",
       "      <td>433.091003</td>\n",
       "      <td>712938.075554</td>\n",
       "      <td>0.174564</td>\n",
       "      <td>124.453183</td>\n",
       "      <td>2986.876385</td>\n",
       "      <td>7.970626</td>\n",
       "      <td>25</td>\n",
       "      <td>661.313195</td>\n",
       "      <td>4516.583681</td>\n",
       "    </tr>\n",
       "    <tr>\n",
       "      <th>5</th>\n",
       "      <td>2016-01-05</td>\n",
       "      <td>431.959991</td>\n",
       "      <td>718376.915249</td>\n",
       "      <td>0.17447</td>\n",
       "      <td>125.33526</td>\n",
       "      <td>3008.046235</td>\n",
       "      <td>9.196709</td>\n",
       "      <td>25</td>\n",
       "      <td>768.447952</td>\n",
       "      <td>3914.443688</td>\n",
       "    </tr>\n",
       "    <tr>\n",
       "      <th>...</th>\n",
       "      <td>...</td>\n",
       "      <td>...</td>\n",
       "      <td>...</td>\n",
       "      <td>...</td>\n",
       "      <td>...</td>\n",
       "      <td>...</td>\n",
       "      <td>...</td>\n",
       "      <td>...</td>\n",
       "      <td>...</td>\n",
       "      <td>...</td>\n",
       "    </tr>\n",
       "    <tr>\n",
       "      <th>2188</th>\n",
       "      <td>2021-12-27</td>\n",
       "      <td>50640.417969</td>\n",
       "      <td>178302007.204157</td>\n",
       "      <td>0.054004</td>\n",
       "      <td>9629.023733</td>\n",
       "      <td>231096.56958</td>\n",
       "      <td>9.73</td>\n",
       "      <td>6.25</td>\n",
       "      <td>249841.069113</td>\n",
       "      <td>924.974306</td>\n",
       "    </tr>\n",
       "    <tr>\n",
       "      <th>2189</th>\n",
       "      <td>2021-12-28</td>\n",
       "      <td>47588.855469</td>\n",
       "      <td>179070270.972984</td>\n",
       "      <td>0.053975</td>\n",
       "      <td>9665.319511</td>\n",
       "      <td>231967.668253</td>\n",
       "      <td>10.746</td>\n",
       "      <td>6.25</td>\n",
       "      <td>276969.395895</td>\n",
       "      <td>837.520938</td>\n",
       "    </tr>\n",
       "    <tr>\n",
       "      <th>2190</th>\n",
       "      <td>2021-12-29</td>\n",
       "      <td>46444.710938</td>\n",
       "      <td>174504391.823773</td>\n",
       "      <td>0.053946</td>\n",
       "      <td>9413.817736</td>\n",
       "      <td>225931.625655</td>\n",
       "      <td>9.931</td>\n",
       "      <td>6.25</td>\n",
       "      <td>249302.997154</td>\n",
       "      <td>906.253147</td>\n",
       "    </tr>\n",
       "    <tr>\n",
       "      <th>2191</th>\n",
       "      <td>2021-12-30</td>\n",
       "      <td>47178.125000</td>\n",
       "      <td>174068259.955083</td>\n",
       "      <td>0.053917</td>\n",
       "      <td>9385.247102</td>\n",
       "      <td>225245.930454</td>\n",
       "      <td>12.101</td>\n",
       "      <td>6.25</td>\n",
       "      <td>302855.667158</td>\n",
       "      <td>743.740187</td>\n",
       "    </tr>\n",
       "    <tr>\n",
       "      <th>2192</th>\n",
       "      <td>2021-12-31</td>\n",
       "      <td>46306.445313</td>\n",
       "      <td>168463241.610802</td>\n",
       "      <td>0.053888</td>\n",
       "      <td>9078.163001</td>\n",
       "      <td>217875.912026</td>\n",
       "      <td>9.664</td>\n",
       "      <td>6.25</td>\n",
       "      <td>233950.312647</td>\n",
       "      <td>931.291391</td>\n",
       "    </tr>\n",
       "  </tbody>\n",
       "</table>\n",
       "<p>2188 rows × 10 columns</p>\n",
       "</div>"
      ],
      "text/plain": [
       "           Date     BTC price Network Hashrate (7-day average)  \\\n",
       "1    2016-01-01    434.334015                    709977.386212   \n",
       "2    2016-01-02    433.437988                    681636.254019   \n",
       "3    2016-01-03    430.010986                    684710.726135   \n",
       "4    2016-01-04    433.091003                    712938.075554   \n",
       "5    2016-01-05    431.959991                    718376.915249   \n",
       "...         ...           ...                              ...   \n",
       "2188 2021-12-27  50640.417969                 178302007.204157   \n",
       "2189 2021-12-28  47588.855469                 179070270.972984   \n",
       "2190 2021-12-29  46444.710938                 174504391.823773   \n",
       "2191 2021-12-30  47178.125000                 174068259.955083   \n",
       "2192 2021-12-31  46306.445313                 168463241.610802   \n",
       "\n",
       "     Rig Power Efficiency Power required Energy consumed per day block time  \\\n",
       "1                0.174845     124.136248             2979.269956  10.805309   \n",
       "2                0.174751     119.116927             2858.806242   9.946667   \n",
       "3                0.174658     119.589935             2870.158439   9.892184   \n",
       "4                0.174564     124.453183             2986.876385   7.970626   \n",
       "5                 0.17447      125.33526             3008.046235   9.196709   \n",
       "...                   ...            ...                     ...        ...   \n",
       "2188             0.054004    9629.023733            231096.56958       9.73   \n",
       "2189             0.053975    9665.319511           231967.668253     10.746   \n",
       "2190             0.053946    9413.817736           225931.625655      9.931   \n",
       "2191             0.053917    9385.247102           225245.930454     12.101   \n",
       "2192             0.053888    9078.163001           217875.912026      9.664   \n",
       "\n",
       "     Reward Energy per coin Coins created  \n",
       "1        25      894.220317   3331.695669  \n",
       "2        25      789.877576   3619.302949  \n",
       "3        25       788.67042   3639.236829  \n",
       "4        25      661.313195   4516.583681  \n",
       "5        25      768.447952   3914.443688  \n",
       "...     ...             ...           ...  \n",
       "2188   6.25   249841.069113    924.974306  \n",
       "2189   6.25   276969.395895    837.520938  \n",
       "2190   6.25   249302.997154    906.253147  \n",
       "2191   6.25   302855.667158    743.740187  \n",
       "2192   6.25   233950.312647    931.291391  \n",
       "\n",
       "[2188 rows x 10 columns]"
      ]
     },
     "execution_count": 249,
     "metadata": {},
     "output_type": "execute_result"
    }
   ],
   "source": [
    "df1"
   ]
  },
  {
   "cell_type": "code",
   "execution_count": 250,
   "id": "20e232c8",
   "metadata": {},
   "outputs": [],
   "source": [
    "merged_df = pd.merge(df1, df2, on='Date', how='inner')"
   ]
  },
  {
   "cell_type": "code",
   "execution_count": 251,
   "id": "77357c4f",
   "metadata": {},
   "outputs": [
    {
     "data": {
      "text/plain": [
       "(2188, 20)"
      ]
     },
     "execution_count": 251,
     "metadata": {},
     "output_type": "execute_result"
    }
   ],
   "source": [
    "merged_df.shape"
   ]
  },
  {
   "cell_type": "code",
   "execution_count": 252,
   "id": "00965db3",
   "metadata": {},
   "outputs": [
    {
     "data": {
      "text/html": [
       "<div>\n",
       "<style scoped>\n",
       "    .dataframe tbody tr th:only-of-type {\n",
       "        vertical-align: middle;\n",
       "    }\n",
       "\n",
       "    .dataframe tbody tr th {\n",
       "        vertical-align: top;\n",
       "    }\n",
       "\n",
       "    .dataframe thead th {\n",
       "        text-align: right;\n",
       "    }\n",
       "</style>\n",
       "<table border=\"1\" class=\"dataframe\">\n",
       "  <thead>\n",
       "    <tr style=\"text-align: right;\">\n",
       "      <th></th>\n",
       "      <th>Date</th>\n",
       "      <th>BTC price</th>\n",
       "      <th>Network Hashrate (7-day average)</th>\n",
       "      <th>Rig Power Efficiency</th>\n",
       "      <th>Power required</th>\n",
       "      <th>Energy consumed per day</th>\n",
       "      <th>block time</th>\n",
       "      <th>Reward</th>\n",
       "      <th>Energy per coin</th>\n",
       "      <th>Coins created_x</th>\n",
       "      <th>Year</th>\n",
       "      <th>Coins created_y</th>\n",
       "      <th>kWh/coin</th>\n",
       "      <th>GWh per day</th>\n",
       "      <th>CO2e (kg/kWh)</th>\n",
       "      <th>CO2e (tonnes/day)</th>\n",
       "      <th>CO2e (tonnes/coin)</th>\n",
       "      <th>damages $/coin</th>\n",
       "      <th>damages $/value</th>\n",
       "      <th>total damages $ (millions)</th>\n",
       "    </tr>\n",
       "  </thead>\n",
       "  <tbody>\n",
       "    <tr>\n",
       "      <th>0</th>\n",
       "      <td>2016-01-01</td>\n",
       "      <td>434.334015</td>\n",
       "      <td>709977.386212</td>\n",
       "      <td>0.174845</td>\n",
       "      <td>124.136248</td>\n",
       "      <td>2979.269956</td>\n",
       "      <td>10.805309</td>\n",
       "      <td>25</td>\n",
       "      <td>894.220317</td>\n",
       "      <td>3331.695669</td>\n",
       "      <td>2016</td>\n",
       "      <td>3331.695669</td>\n",
       "      <td>894.220317</td>\n",
       "      <td>2.97927</td>\n",
       "      <td>0.492661</td>\n",
       "      <td>1467.771526</td>\n",
       "      <td>0.440548</td>\n",
       "      <td>44.05479</td>\n",
       "      <td>0.101431</td>\n",
       "      <td>0.146777</td>\n",
       "    </tr>\n",
       "    <tr>\n",
       "      <th>1</th>\n",
       "      <td>2016-01-02</td>\n",
       "      <td>433.437988</td>\n",
       "      <td>681636.254019</td>\n",
       "      <td>0.174751</td>\n",
       "      <td>119.116927</td>\n",
       "      <td>2858.806242</td>\n",
       "      <td>9.946667</td>\n",
       "      <td>25</td>\n",
       "      <td>789.877576</td>\n",
       "      <td>3619.302949</td>\n",
       "      <td>2016</td>\n",
       "      <td>3619.302949</td>\n",
       "      <td>789.877576</td>\n",
       "      <td>2.858806</td>\n",
       "      <td>0.492661</td>\n",
       "      <td>1408.423695</td>\n",
       "      <td>0.389142</td>\n",
       "      <td>38.914225</td>\n",
       "      <td>0.08978</td>\n",
       "      <td>0.140842</td>\n",
       "    </tr>\n",
       "    <tr>\n",
       "      <th>2</th>\n",
       "      <td>2016-01-03</td>\n",
       "      <td>430.010986</td>\n",
       "      <td>684710.726135</td>\n",
       "      <td>0.174658</td>\n",
       "      <td>119.589935</td>\n",
       "      <td>2870.158439</td>\n",
       "      <td>9.892184</td>\n",
       "      <td>25</td>\n",
       "      <td>788.67042</td>\n",
       "      <td>3639.236829</td>\n",
       "      <td>2016</td>\n",
       "      <td>3639.236829</td>\n",
       "      <td>788.670420</td>\n",
       "      <td>2.870158</td>\n",
       "      <td>0.492661</td>\n",
       "      <td>1414.016485</td>\n",
       "      <td>0.388548</td>\n",
       "      <td>38.854753</td>\n",
       "      <td>0.090358</td>\n",
       "      <td>0.141402</td>\n",
       "    </tr>\n",
       "    <tr>\n",
       "      <th>3</th>\n",
       "      <td>2016-01-04</td>\n",
       "      <td>433.091003</td>\n",
       "      <td>712938.075554</td>\n",
       "      <td>0.174564</td>\n",
       "      <td>124.453183</td>\n",
       "      <td>2986.876385</td>\n",
       "      <td>7.970626</td>\n",
       "      <td>25</td>\n",
       "      <td>661.313195</td>\n",
       "      <td>4516.583681</td>\n",
       "      <td>2016</td>\n",
       "      <td>4516.583681</td>\n",
       "      <td>661.313195</td>\n",
       "      <td>2.986876</td>\n",
       "      <td>0.492661</td>\n",
       "      <td>1471.518921</td>\n",
       "      <td>0.325804</td>\n",
       "      <td>32.580353</td>\n",
       "      <td>0.075227</td>\n",
       "      <td>0.147152</td>\n",
       "    </tr>\n",
       "    <tr>\n",
       "      <th>4</th>\n",
       "      <td>2016-01-05</td>\n",
       "      <td>431.959991</td>\n",
       "      <td>718376.915249</td>\n",
       "      <td>0.17447</td>\n",
       "      <td>125.33526</td>\n",
       "      <td>3008.046235</td>\n",
       "      <td>9.196709</td>\n",
       "      <td>25</td>\n",
       "      <td>768.447952</td>\n",
       "      <td>3914.443688</td>\n",
       "      <td>2016</td>\n",
       "      <td>3914.443688</td>\n",
       "      <td>768.447952</td>\n",
       "      <td>3.008046</td>\n",
       "      <td>0.492661</td>\n",
       "      <td>1481.94849</td>\n",
       "      <td>0.378585</td>\n",
       "      <td>37.85847</td>\n",
       "      <td>0.087643</td>\n",
       "      <td>0.148195</td>\n",
       "    </tr>\n",
       "  </tbody>\n",
       "</table>\n",
       "</div>"
      ],
      "text/plain": [
       "        Date   BTC price Network Hashrate (7-day average)  \\\n",
       "0 2016-01-01  434.334015                    709977.386212   \n",
       "1 2016-01-02  433.437988                    681636.254019   \n",
       "2 2016-01-03  430.010986                    684710.726135   \n",
       "3 2016-01-04  433.091003                    712938.075554   \n",
       "4 2016-01-05  431.959991                    718376.915249   \n",
       "\n",
       "  Rig Power Efficiency Power required Energy consumed per day block time  \\\n",
       "0             0.174845     124.136248             2979.269956  10.805309   \n",
       "1             0.174751     119.116927             2858.806242   9.946667   \n",
       "2             0.174658     119.589935             2870.158439   9.892184   \n",
       "3             0.174564     124.453183             2986.876385   7.970626   \n",
       "4              0.17447      125.33526             3008.046235   9.196709   \n",
       "\n",
       "  Reward Energy per coin Coins created_x  Year Coins created_y    kWh/coin  \\\n",
       "0     25      894.220317     3331.695669  2016     3331.695669  894.220317   \n",
       "1     25      789.877576     3619.302949  2016     3619.302949  789.877576   \n",
       "2     25       788.67042     3639.236829  2016     3639.236829  788.670420   \n",
       "3     25      661.313195     4516.583681  2016     4516.583681  661.313195   \n",
       "4     25      768.447952     3914.443688  2016     3914.443688  768.447952   \n",
       "\n",
       "  GWh per day  CO2e (kg/kWh) CO2e (tonnes/day) CO2e (tonnes/coin)  \\\n",
       "0     2.97927       0.492661       1467.771526           0.440548   \n",
       "1    2.858806       0.492661       1408.423695           0.389142   \n",
       "2    2.870158       0.492661       1414.016485           0.388548   \n",
       "3    2.986876       0.492661       1471.518921           0.325804   \n",
       "4    3.008046       0.492661        1481.94849           0.378585   \n",
       "\n",
       "  damages $/coin damages $/value total damages $ (millions)  \n",
       "0       44.05479        0.101431                   0.146777  \n",
       "1      38.914225         0.08978                   0.140842  \n",
       "2      38.854753        0.090358                   0.141402  \n",
       "3      32.580353        0.075227                   0.147152  \n",
       "4       37.85847        0.087643                   0.148195  "
      ]
     },
     "execution_count": 252,
     "metadata": {},
     "output_type": "execute_result"
    }
   ],
   "source": [
    "merged_df.head()"
   ]
  },
  {
   "cell_type": "code",
   "execution_count": 253,
   "id": "b5ead9d4",
   "metadata": {},
   "outputs": [
    {
     "data": {
      "text/plain": [
       "Date                                datetime64[ns]\n",
       "BTC price                                  float64\n",
       "Network Hashrate (7-day average)            object\n",
       "Rig Power Efficiency                        object\n",
       "Power required                              object\n",
       "Energy consumed per day                     object\n",
       "block time                                  object\n",
       "Reward                                      object\n",
       "Energy per coin                             object\n",
       "Coins created_x                             object\n",
       "Year                                        object\n",
       "Coins created_y                             object\n",
       "kWh/coin                                   float64\n",
       "GWh per day                                 object\n",
       "CO2e (kg/kWh)                              float64\n",
       "CO2e (tonnes/day)                           object\n",
       "CO2e (tonnes/coin)                          object\n",
       "damages $/coin                              object\n",
       "damages $/value                             object\n",
       "total damages $ (millions)                  object\n",
       "dtype: object"
      ]
     },
     "execution_count": 253,
     "metadata": {},
     "output_type": "execute_result"
    }
   ],
   "source": [
    "merged_df.dtypes"
   ]
  },
  {
   "cell_type": "code",
   "execution_count": 254,
   "id": "a21bd96f",
   "metadata": {},
   "outputs": [
    {
     "data": {
      "text/plain": [
       "Index(['Date', 'BTC price', 'Network Hashrate (7-day average)',\n",
       "       'Rig Power Efficiency', 'Power required', 'Energy consumed per day',\n",
       "       'block time', 'Reward', 'Energy per coin', 'Coins created_x', 'Year',\n",
       "       'Coins created_y', 'kWh/coin', 'GWh per day', 'CO2e (kg/kWh)',\n",
       "       'CO2e (tonnes/day)', 'CO2e (tonnes/coin)', 'damages $/coin',\n",
       "       'damages $/value', 'total damages $ (millions)'],\n",
       "      dtype='object')"
      ]
     },
     "execution_count": 254,
     "metadata": {},
     "output_type": "execute_result"
    }
   ],
   "source": [
    "merged_df.columns"
   ]
  },
  {
   "cell_type": "code",
   "execution_count": 255,
   "id": "197872b2",
   "metadata": {},
   "outputs": [],
   "source": [
    "for col in merged_df.columns:\n",
    "    if col==\"Date\":\n",
    "        continue\n",
    "    else:\n",
    "        merged_df[col]=merged_df[col].astype(int)"
   ]
  },
  {
   "cell_type": "markdown",
   "id": "c85e9f7a",
   "metadata": {},
   "source": [
    "### Selecting Features"
   ]
  },
  {
   "cell_type": "code",
   "execution_count": 256,
   "id": "dd533b24",
   "metadata": {},
   "outputs": [],
   "source": [
    "useful_features = [\n",
    "    'BTC price',\n",
    "    'Network Hashrate (7-day average)',\n",
    "    'Rig Power Efficiency',\n",
    "    'Power required',\n",
    "    'Energy consumed per day',\n",
    "    'block time',\n",
    "    'Reward',\n",
    "    'Energy per coin',\n",
    "    'Coins created_x',\n",
    "    'Year',\n",
    "    'Coins created_y',\n",
    "    'kWh/coin',\n",
    "    'GWh per day',\n",
    "    'damages $/coin',\n",
    "    'damages $/value',\n",
    "    'total damages $ (millions)']"
   ]
  },
  {
   "cell_type": "markdown",
   "id": "8b32f03e",
   "metadata": {},
   "source": [
    "### Model Training"
   ]
  },
  {
   "cell_type": "code",
   "execution_count": 257,
   "id": "a5d3c004",
   "metadata": {},
   "outputs": [
    {
     "name": "stdout",
     "output_type": "stream",
     "text": [
      "Best Parameters with Bayesian Optimization: OrderedDict([('learning_rate', 0.05534189575174008), ('max_depth', 10), ('n_estimators', 200), ('reg_alpha', 0), ('reg_lambda', 1)])\n",
      "Best Model Mean Squared Error with Bayesian Optimization: 13055.462892157575\n"
     ]
    }
   ],
   "source": [
    "\n",
    "#Defining target and features\n",
    "X=merged_df[useful_features]\n",
    "y = merged_df['CO2e (tonnes/day)']\n",
    "\n",
    "#train-test split\n",
    "X_train, X_test, y_train, y_test = train_test_split(X, y, test_size=0.2, random_state=42)\n",
    "\n",
    "# Scale the data\n",
    "scaler = StandardScaler()\n",
    "X_train_scaled = scaler.fit_transform(X_train)\n",
    "X_test_scaled = scaler.transform(X_test)\n",
    "\n",
    "# Define the parameter space to search using skopt\n",
    "param_space = {\n",
    "    'learning_rate': (0.01, 0.2, 'log-uniform'),\n",
    "    'max_depth': (3, 10),\n",
    "    'n_estimators': (50, 200),\n",
    "    'reg_alpha': (0, 1, 'uniform'),\n",
    "    'reg_lambda': (1, 3, 'uniform')\n",
    "}\n",
    "    \n",
    "# Initialize BayesSearchCV \n",
    "bayes_search = BayesSearchCV(\n",
    "    estimator=XGBRegressor(),\n",
    "    search_spaces=param_space,\n",
    "    cv=5,\n",
    "    n_iter=50,  # Number of parameter settings that are sampled\n",
    "    random_state=42,\n",
    "    n_jobs=-1,\n",
    ")\n",
    "\n",
    "# Perform Bayesian Optimization to find the best hyperparameters\n",
    "bayes_search.fit(X_train_scaled, y_train)\n",
    "\n",
    "# Print the best parameters found\n",
    "print(\"Best Parameters with Bayesian Optimization:\", bayes_search.best_params_)\n",
    "\n",
    "# Get the best estimator\n",
    "best_model_bayes= bayes_search.best_estimator_\n",
    "\n",
    "# Predict on the testing data using the best model\n",
    "y_pred= best_model_bayes.predict(X_test_scaled)\n",
    "    \n",
    "mse_best_bayes = mean_squared_error(y_test, y_pred)\n",
    "print('Best Model Mean Squared Error with Bayesian Optimization:', mse_best_bayes)"
   ]
  },
  {
   "cell_type": "markdown",
   "id": "5996a080",
   "metadata": {},
   "source": [
    "### Evaluating the model"
   ]
  },
  {
   "cell_type": "code",
   "execution_count": 258,
   "id": "eb93335f",
   "metadata": {},
   "outputs": [
    {
     "name": "stdout",
     "output_type": "stream",
     "text": [
      "Mean Absolute Error: 78.39275203339041\n",
      "Mean Squared Error: 13055.462892157575\n",
      "Root Mean Squared Error: 114.2605045155918\n",
      "R^2 Score: 0.9999927878349412\n"
     ]
    }
   ],
   "source": [
    "# Compute evaluation metrics\n",
    "mae = mean_absolute_error(y_test, y_pred)\n",
    "mse = mean_squared_error(y_test, y_pred)\n",
    "rmse = mean_squared_error(y_test, y_pred, squared=False)  # squared=False returns RMSE\n",
    "r2 = r2_score(y_test, y_pred)\n",
    "\n",
    "# Print evaluation metrics\n",
    "print('Mean Absolute Error:', mae)\n",
    "print('Mean Squared Error:', mse)\n",
    "print('Root Mean Squared Error:', rmse)\n",
    "print('R^2 Score:', r2)"
   ]
  },
  {
   "cell_type": "markdown",
   "id": "40570225",
   "metadata": {},
   "source": [
    "### Check for overfitting"
   ]
  },
  {
   "cell_type": "code",
   "execution_count": 262,
   "id": "ecea49f1",
   "metadata": {},
   "outputs": [
    {
     "name": "stdout",
     "output_type": "stream",
     "text": [
      "Training MAE: 20.620771065848214\n",
      "Training MSE: 1185.821794740234\n",
      "Training R^2 Score: 0.9999992965569463\n",
      "\n",
      "Testing MAE: 78.39275203339041\n",
      "Testing MSE: 13055.462892157575\n",
      "Testing R^2 Score: 0.9999927878349412\n"
     ]
    }
   ],
   "source": [
    "# Predict on the training set\n",
    "y_train_pred = best_model_bayes.predict(X_train_scaled)\n",
    "\n",
    "# Calculate training metrics\n",
    "train_mae = mean_absolute_error(y_train, y_train_pred)\n",
    "train_mse = mean_squared_error(y_train, y_train_pred)\n",
    "train_r2 = r2_score(y_train, y_train_pred)\n",
    "\n",
    "# Predict on the testing set\n",
    "y_test_pred = best_model_bayes.predict(X_test_scaled)\n",
    "\n",
    "# Calculate testing metrics\n",
    "test_mae = mean_absolute_error(y_test, y_test_pred)\n",
    "test_mse = mean_squared_error(y_test, y_test_pred)\n",
    "test_r2 = r2_score(y_test, y_test_pred)\n",
    "\n",
    "print(\"Training MAE:\", train_mae)\n",
    "print(\"Training MSE:\", train_mse)\n",
    "print(\"Training R^2 Score:\", train_r2)\n",
    "print()\n",
    "print(\"Testing MAE:\", test_mae)\n",
    "print(\"Testing MSE:\", test_mse)\n",
    "print(\"Testing R^2 Score:\", test_r2)"
   ]
  },
  {
   "cell_type": "markdown",
   "id": "c2d346a8",
   "metadata": {},
   "source": [
    "### Learning Curves"
   ]
  },
  {
   "cell_type": "code",
   "execution_count": 264,
   "id": "5c5159fc",
   "metadata": {},
   "outputs": [
    {
     "data": {
      "image/png": "[encoded data removed]",
      "text/plain": [
       "<Figure size 640x480 with 1 Axes>"
      ]
     },
     "metadata": {},
     "output_type": "display_data"
    }
   ],
   "source": [
    "# Function to plot learning curves\n",
    "def plot_learning_curve(estimator, title, X, y, ylim=None, cv=None, n_jobs=None, train_sizes=np.linspace(.1, 1.0, 5)):\n",
    "    plt.figure()\n",
    "    plt.title(title)\n",
    "    if ylim is not None:\n",
    "        plt.ylim(*ylim)\n",
    "    plt.xlabel(\"Training examples\")\n",
    "    plt.ylabel(\"Score\")\n",
    "    train_sizes, train_scores, test_scores = learning_curve(\n",
    "        estimator, X, y, cv=cv, n_jobs=n_jobs, train_sizes=train_sizes, scoring='neg_mean_squared_error')\n",
    "    train_scores_mean = np.mean(train_scores, axis=1)\n",
    "    train_scores_std = np.std(train_scores, axis=1)\n",
    "    test_scores_mean = np.mean(test_scores, axis=1)\n",
    "    test_scores_std = np.std(test_scores, axis=1)\n",
    "    plt.grid()\n",
    "\n",
    "    plt.fill_between(train_sizes, train_scores_mean - train_scores_std,\n",
    "                     train_scores_mean + train_scores_std, alpha=0.1,\n",
    "                     color=\"r\")\n",
    "    plt.fill_between(train_sizes, test_scores_mean - test_scores_std,\n",
    "                     test_scores_mean + test_scores_std, alpha=0.1, color=\"g\")\n",
    "    plt.plot(train_sizes, train_scores_mean, 'o-', color=\"r\",\n",
    "             label=\"Training score\")\n",
    "    plt.plot(train_sizes, test_scores_mean, 'o-', color=\"g\",\n",
    "             label=\"Cross-validation score\")\n",
    "\n",
    "    plt.legend(loc=\"best\")\n",
    "    return plt\n",
    "\n",
    "# Plot learning curves\n",
    "title = \"Learning Curves (XGBoost with Bayesian Optimization)\"\n",
    "plot_learning_curve(best_model_bayes, title, X_train_scaled, y_train, cv=5, n_jobs=-1)\n",
    "plt.show()"
   ]
  },
  {
   "cell_type": "markdown",
   "id": "3ada68a3",
   "metadata": {},
   "source": [
    "### Feature Importances"
   ]
  },
  {
   "cell_type": "code",
   "execution_count": 278,
   "id": "00f348da",
   "metadata": {},
   "outputs": [
    {
     "data": {
      "image/png": "[encoded data removed]",
      "text/plain": [
       "<Figure size 1000x600 with 1 Axes>"
      ]
     },
     "metadata": {},
     "output_type": "display_data"
    }
   ],
   "source": [
    " #Get feature importances\n",
    "feature_importances = best_model_bayes.feature_importances_\n",
    "\n",
    "# Create a DataFrame to store feature importances along with their names\n",
    "feature_importance_df = pd.DataFrame({'Feature': X.columns[:len(feature_importances)], 'Importance': feature_importances})\n",
    "\n",
    "# Sort the DataFrame by importance values in descending order\n",
    "feature_importance_df = feature_importance_df.sort_values(by='Importance', ascending=True)\n",
    "\n",
    "# Plot feature importances\n",
    "plt.figure(figsize=(10, 6))\n",
    "plt.barh(feature_importance_df['Feature'], feature_importance_df['Importance'])\n",
    "plt.xscale('log')\n",
    "plt.xlabel('Importance')\n",
    "plt.ylabel('Feature')\n",
    "plt.title('Feature Importances')\n",
    "\n",
    "# Set the y-axis limit to include all features\n",
    "\n",
    "plt.show()"
   ]
  }
 ],
 "metadata": {
  "kernelspec": {
   "display_name": "Python 3 (ipykernel)",
   "language": "python",
   "name": "python3"
  },
  "language_info": {
   "codemirror_mode": {
    "name": "ipython",
    "version": 3
   },
   "file_extension": ".py",
   "mimetype": "text/x-python",
   "name": "python",
   "nbconvert_exporter": "python",
   "pygments_lexer": "ipython3",
   "version": "3.10.9"
  }
 },
 "nbformat": 4,
 "nbformat_minor": 5
}
